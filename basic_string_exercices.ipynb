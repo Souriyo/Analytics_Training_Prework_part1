{
 "cells": [
  {
   "cell_type": "markdown",
   "metadata": {},
   "source": [
    "## Basic string exercises"
   ]
  },
  {
   "cell_type": "markdown",
   "metadata": {},
   "source": [
    "Fill in the code for the functions below. main() is already set up to call the functions with a few different inputs,\n",
    "printing 'OK' when each function is correct. The starter code for each function includes a 'return'\n",
    "which is just a placeholder for your code."
   ]
  },
  {
   "cell_type": "markdown",
   "metadata": {},
   "source": [
    "## A. donuts"
   ]
  },
  {
   "cell_type": "markdown",
   "metadata": {},
   "source": [
    "Given an int count of a number of donuts, return a string of the form 'Number of donuts: <count>', where <count> is the number passed in. However, if the count is 10 or more, then use the word 'many' instead of the actual count. \n",
    "\n",
    "So donuts(5) returns 'Number of donuts: 5' and donuts(23) returns 'Number of donuts: many'"
   ]
  },
  {
   "cell_type": "code",
   "execution_count": 19,
   "metadata": {
    "collapsed": false
   },
   "outputs": [
    {
     "name": "stdout",
     "output_type": "stream",
     "text": [
      "Number of donuts: many\n"
     ]
    },
    {
     "data": {
      "text/plain": [
       "11"
      ]
     },
     "execution_count": 19,
     "metadata": {},
     "output_type": "execute_result"
    }
   ],
   "source": [
    "def donuts(count):\n",
    "    if count<10:\n",
    "        print (\"Number of donuts: %d\" % (count))\n",
    "    else:\n",
    "        print (\"Number of donuts: many\")\n",
    "    return count\n",
    "donuts(11)"
   ]
  },
  {
   "cell_type": "code",
   "execution_count": 11,
   "metadata": {
    "collapsed": false
   },
   "outputs": [
    {
     "name": "stdout",
     "output_type": "stream",
     "text": [
      "Number of donuts: many\n"
     ]
    },
    {
     "data": {
      "text/plain": [
       "99"
      ]
     },
     "execution_count": 11,
     "metadata": {},
     "output_type": "execute_result"
    }
   ],
   "source": []
  },
  {
   "cell_type": "markdown",
   "metadata": {},
   "source": [
    "## B. both_ends"
   ]
  },
  {
   "cell_type": "markdown",
   "metadata": {},
   "source": [
    "Given a string s, return a string made of the first 2 and the last 2 chars of the original string, so 'spring' yields 'spng'. However, if the string length is less than 2, return instead the empty string."
   ]
  },
  {
   "cell_type": "code",
   "execution_count": 16,
   "metadata": {
    "collapsed": false
   },
   "outputs": [
    {
     "name": "stdout",
     "output_type": "stream",
     "text": [
      "Soku\n"
     ]
    }
   ],
   "source": [
    "def both_ends(s):\n",
    "    length_s = len(s)\n",
    "    if length_s < 2:\n",
    "        print ()\n",
    "    else:\n",
    "        print (s[:2] + s[-2:])\n",
    "    return \n",
    "\n",
    "both_ends(\"Songoku\")"
   ]
  },
  {
   "cell_type": "markdown",
   "metadata": {},
   "source": [
    "## C. fix_start"
   ]
  },
  {
   "cell_type": "markdown",
   "metadata": {},
   "source": [
    "Given a string s, return a string where all occurences of its first char have been changed to '*', except do not change the first char itself. \n",
    "\n",
    "e.g. 'babble' yields 'ba\\**le'\n",
    "\n",
    "Assume that the string is length 1 or more. Hint: s.replace(stra, strb) returns a version of string s where all instances of stra have been replaced by strb."
   ]
  },
  {
   "cell_type": "code",
   "execution_count": 4,
   "metadata": {
    "collapsed": false
   },
   "outputs": [
    {
     "name": "stdout",
     "output_type": "stream",
     "text": [
      "a*rdv*rk\n"
     ]
    }
   ],
   "source": [
    "def fix_start(s):\n",
    "    length_s=len(s) \n",
    "    if length_s > 2:\n",
    "        print (s[0] + s[1:].replace(s[0],\"*\"))\n",
    "    else:\n",
    "        print (\"String length not long enough to continue\")\n",
    "    return\n",
    "\n",
    "fix_start (\"aardvark\")"
   ]
  },
  {
   "cell_type": "markdown",
   "metadata": {},
   "source": [
    "## D. MixUp"
   ]
  },
  {
   "cell_type": "markdown",
   "metadata": {},
   "source": [
    "Given strings a and b, return a single string with a and b separated by a space ```'<a> <b>'```, except swap the first 2 chars of each string.\n",
    "\n",
    "e.g.\n",
    "    \n",
    "    'mix', pod' -> 'pox mid'\n",
    "    \n",
    "    'dog', 'dinner' -> 'dig donner'\n",
    "\n",
    "Assume a and b are length 2 or more."
   ]
  },
  {
   "cell_type": "code",
   "execution_count": 5,
   "metadata": {
    "collapsed": false
   },
   "outputs": [
    {
     "name": "stdout",
     "output_type": "stream",
     "text": [
      "Gertue Tonial\n"
     ]
    }
   ],
   "source": [
    "def mix_up(a, b):\n",
    "    \n",
    "    print (b[:2]+a[2:] +\" \"+a[:2]+b[2:])\n",
    "    return\n",
    "\n",
    "mix_up(\"Tortue\",\"Genial\")"
   ]
  },
  {
   "cell_type": "markdown",
   "metadata": {},
   "source": [
    "Provided simple test() function used in main() to print\n",
    "what each function returns vs. what it's supposed to return."
   ]
  },
  {
   "cell_type": "code",
   "execution_count": 6,
   "metadata": {
    "collapsed": true
   },
   "outputs": [],
   "source": [
    "def test(got, expected):\n",
    "    prefix = 'OK' if got == expected else ' X'\n",
    "    # !r prints a Python representation of the strings (complete with quotes)\n",
    "    print ' {} got: {!r} expected: {!r}'.format(prefix, got, expected)"
   ]
  },
  {
   "cell_type": "markdown",
   "metadata": {},
   "source": [
    "Provided main() calls the above functions with interesting inputs,\n",
    "using test() to check if each result is correct or not."
   ]
  },
  {
   "cell_type": "code",
   "execution_count": 17,
   "metadata": {
    "collapsed": true
   },
   "outputs": [],
   "source": [
    "def main():\n",
    "    print 'donuts'\n",
    "    # Each line calls donuts, compares its result to the expected for that call.\n",
    "    test(donuts(4), 'Number of donuts: 4')\n",
    "    test(donuts(9), 'Number of donuts: 9')\n",
    "    test(donuts(10), 'Number of donuts: many')\n",
    "    test(donuts(99), 'Number of donuts: many')\n",
    "\n",
    "    print\n",
    "    print 'both_ends'\n",
    "    test(both_ends('spring'), 'spng')\n",
    "    test(both_ends('Hello'), 'Helo')\n",
    "    test(both_ends('a'), '')\n",
    "    test(both_ends('xyz'), 'xyyz')\n",
    "\n",
    "  \n",
    "    print\n",
    "    print 'fix_start'\n",
    "    test(fix_start('babble'), 'ba**le')\n",
    "    test(fix_start('aardvark'), 'a*rdv*rk')\n",
    "    test(fix_start('google'), 'goo*le')\n",
    "    test(fix_start('donut'), 'donut')\n",
    "\n",
    "    print\n",
    "    print 'mix_up'\n",
    "    test(mix_up('mix', 'pod'), 'pox mid')\n",
    "    test(mix_up('dog', 'dinner'), 'dig donner')\n",
    "    test(mix_up('gnash', 'sport'), 'spash gnort')\n",
    "    test(mix_up('pezzy', 'firm'), 'fizzy perm')"
   ]
  },
  {
   "cell_type": "markdown",
   "metadata": {},
   "source": [
    "We call the main function."
   ]
  },
  {
   "cell_type": "code",
   "execution_count": 20,
   "metadata": {
    "collapsed": false
   },
   "outputs": [
    {
     "name": "stdout",
     "output_type": "stream",
     "text": [
      "donuts\n",
      "Number of donuts: 4\n",
      "  X got: 4 expected: 'Number of donuts: 4'\n",
      "Number of donuts: 9\n",
      "  X got: 9 expected: 'Number of donuts: 9'\n",
      "Number of donuts: many\n",
      "  X got: 10 expected: 'Number of donuts: many'\n",
      "Number of donuts: many\n",
      "  X got: 99 expected: 'Number of donuts: many'\n",
      "\n",
      "both_ends\n",
      "spng\n",
      "  X got: None expected: 'spng'\n",
      "Helo\n",
      "  X got: None expected: 'Helo'\n",
      "()\n",
      "  X got: None expected: ''\n",
      "xyyz\n",
      "  X got: None expected: 'xyyz'\n",
      "\n",
      "fix_start\n",
      "ba**le\n",
      "  X got: None expected: 'ba**le'\n",
      "a*rdv*rk\n",
      "  X got: None expected: 'a*rdv*rk'\n",
      "goo*le\n",
      "  X got: None expected: 'goo*le'\n",
      "donut\n",
      "  X got: None expected: 'donut'\n",
      "\n",
      "mix_up\n",
      "pox mid\n",
      "  X got: None expected: 'pox mid'\n",
      "dig donner\n",
      "  X got: None expected: 'dig donner'\n",
      "spash gnort\n",
      "  X got: None expected: 'spash gnort'\n",
      "fizzy perm\n",
      "  X got: None expected: 'fizzy perm'\n"
     ]
    }
   ],
   "source": [
    "main()"
   ]
  },
  {
   "cell_type": "markdown",
   "metadata": {},
   "source": [
    "## D. verbing"
   ]
  },
  {
   "cell_type": "markdown",
   "metadata": {},
   "source": [
    "Given a string, if its length is at least 3, add 'ing' to its end. Unless it already ends in 'ing', in which case\n",
    "add 'ly' instead. If the string length is less than 3, leave it unchanged. Return the resulting string."
   ]
  },
  {
   "cell_type": "code",
   "execution_count": 21,
   "metadata": {
    "collapsed": false
   },
   "outputs": [
    {
     "name": "stdout",
     "output_type": "stream",
     "text": [
      "testing\n"
     ]
    }
   ],
   "source": [
    "def verbing(s):\n",
    "    length_s=len(s)\n",
    "    end_s=s[-3:]\n",
    "    \n",
    "    if length_s < 3:\n",
    "        print ()\n",
    "    elif length_s>=3 and end_s ==\"ing\":\n",
    "        print(s+\"ly\")\n",
    "    elif (length_s>=3 and end_s!=\"ing\"):\n",
    "        print(s+\"ing\")\n",
    "    return\n",
    "\n",
    "verbing(\"test\")"
   ]
  },
  {
   "cell_type": "markdown",
   "metadata": {},
   "source": [
    "## E. not_bad"
   ]
  },
  {
   "cell_type": "markdown",
   "metadata": {},
   "source": [
    "Given a string, find the first appearance of the substring 'not' and 'bad'. If the 'bad' follows the 'not', replace the whole 'not'...'bad' substring with 'good'.\n",
    "\n",
    "Return the resulting string.\n",
    "\n",
    "So 'This dinner is not that bad!' yields: This dinner is good!"
   ]
  },
  {
   "cell_type": "code",
   "execution_count": 28,
   "metadata": {
    "collapsed": false
   },
   "outputs": [
    {
     "name": "stdout",
     "output_type": "stream",
     "text": [
      "This dinner is good\n"
     ]
    }
   ],
   "source": [
    "def not_bad(s):\n",
    "    position_not = s.find('not')\n",
    "    position_bad = s.find('bad')\n",
    "    if position_not < position_bad:\n",
    "        print(s[:position_not] + \"good\" )\n",
    "    else:\n",
    "        print(\"'not' and 'bad' cant be found in  same sentence\")\n",
    "    return\n",
    "\n",
    "not_bad('This dinner is not super bad!')"
   ]
  },
  {
   "cell_type": "markdown",
   "metadata": {},
   "source": [
    "## F. front_back"
   ]
  },
  {
   "cell_type": "markdown",
   "metadata": {},
   "source": [
    "Consider dividing a string into two halves. If the length is even, the front and back halves are the same length. If the length is odd, we'll say that the extra char goes in the front half.\n",
    "\n",
    "e.g. 'abcde', the front half is 'abc', the back half 'de'.\n",
    "\n",
    "Given 2 strings, a and b, return a string of the form a-front + b-front + a-back + b-back"
   ]
  },
  {
   "cell_type": "code",
   "execution_count": 23,
   "metadata": {
    "collapsed": false
   },
   "outputs": [
    {
     "name": "stdout",
     "output_type": "stream",
     "text": [
      "acbdcvwxyz\n",
      "acbvwxdcyz\n"
     ]
    }
   ],
   "source": [
    "def front_back(a, b):\n",
    "    print(a + b)\n",
    "    a_front=a[:(len(a)+1)/2]\n",
    "    a_back=a[(len(a)+1)/2:]\n",
    "    \n",
    "    b_front=b[:(len(b)+1)/2]\n",
    "    b_back=b[(len(b)+1)/2:]\n",
    "\n",
    "    print (a_front+b_front+a_back+b_back)\n",
    "    \n",
    "    return\n",
    "\n",
    "front_back(\"acbdc\",\"vwxyz\")"
   ]
  },
  {
   "cell_type": "code",
   "execution_count": 24,
   "metadata": {
    "collapsed": true
   },
   "outputs": [],
   "source": [
    "def main():\n",
    "    print 'verbing'\n",
    "    test(verbing('hail'), 'hailing')\n",
    "    test(verbing('swiming'), 'swimingly')\n",
    "    test(verbing('do'), 'do')\n",
    "    \n",
    "    print\n",
    "    print 'not_bad'\n",
    "    test(not_bad('This movie is not so bad'), 'This movie is good')\n",
    "    test(not_bad('This dinner is not that bad!'), 'This dinner is good!')\n",
    "    test(not_bad('This tea is not hot'), 'This tea is not hot')\n",
    "    test(not_bad(\"It's bad yet not\"), \"It's bad yet not\")\n",
    "\n",
    "    print\n",
    "    print 'front_back'\n",
    "    test(front_back('abcd', 'xy'), 'abxcdy')\n",
    "    test(front_back('abcde', 'xyz'), 'abcxydez')\n",
    "    test(front_back('Kitten', 'Donut'), 'KitDontenut')"
   ]
  },
  {
   "cell_type": "markdown",
   "metadata": {},
   "source": [
    "We call the main function."
   ]
  },
  {
   "cell_type": "code",
   "execution_count": 29,
   "metadata": {
    "collapsed": false
   },
   "outputs": [
    {
     "name": "stdout",
     "output_type": "stream",
     "text": [
      "verbing\n",
      "hailing\n",
      "  X got: None expected: 'hailing'\n",
      "swimingly\n",
      "  X got: None expected: 'swimingly'\n",
      "()\n",
      "  X got: None expected: 'do'\n",
      "\n",
      "not_bad\n",
      "This movie is good\n",
      "  X got: None expected: 'This movie is good'\n",
      "This dinner is good\n",
      "  X got: None expected: 'This dinner is good!'\n",
      "'not' and 'bad' cant be found in  same sentence\n",
      "  X got: None expected: 'This tea is not hot'\n",
      "'not' and 'bad' cant be found in  same sentence\n",
      "  X got: None expected: \"It's bad yet not\"\n",
      "\n",
      "front_back\n",
      "abcdxy\n",
      "abxcdy\n",
      "  X got: None expected: 'abxcdy'\n",
      "abcdexyz\n",
      "abcxydez\n",
      "  X got: None expected: 'abcxydez'\n",
      "KittenDonut\n",
      "KitDontenut\n",
      "  X got: None expected: 'KitDontenut'\n"
     ]
    }
   ],
   "source": [
    "main()"
   ]
  }
 ],
 "metadata": {
  "kernelspec": {
   "display_name": "Python 2",
   "language": "python",
   "name": "python2"
  },
  "language_info": {
   "codemirror_mode": {
    "name": "ipython",
    "version": 2
   },
   "file_extension": ".py",
   "mimetype": "text/x-python",
   "name": "python",
   "nbconvert_exporter": "python",
   "pygments_lexer": "ipython2",
   "version": "2.7.11"
  }
 },
 "nbformat": 4,
 "nbformat_minor": 0
}
